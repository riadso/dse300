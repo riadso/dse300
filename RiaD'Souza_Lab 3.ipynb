{
 "cells": [
  {
   "cell_type": "markdown",
   "metadata": {},
   "source": [
    "# Interview Feedback:\n",
    "\n",
    "I really liked this speaker. It was interesting to hear fom a Marketing Analyst, as I feel typically I hear from people in hard data science or business, so she was kind of in the middle, which was really interesting to hear and something I am particularly interested in!"
   ]
  },
  {
   "cell_type": "code",
   "execution_count": 2,
   "metadata": {},
   "outputs": [],
   "source": [
    "import pandas as pd\n",
    "import duckdb\n",
    "# establish connection\n",
    "conn = duckdb.connect('/Users/riadsouza/Downloads/mimic.db', read_only=True)"
   ]
  },
  {
   "cell_type": "code",
   "execution_count": 3,
   "metadata": {},
   "outputs": [
    {
     "data": {
      "text/plain": [
       "┌────────────┐\n",
       "│    name    │\n",
       "│  varchar   │\n",
       "├────────────┤\n",
       "│ ADMISSIONS │\n",
       "│ D_ICDPROCS │\n",
       "│ ICUSTAYS   │\n",
       "│ PATIENTS   │\n",
       "│ PROCS_ICD  │\n",
       "└────────────┘"
      ]
     },
     "execution_count": 3,
     "metadata": {},
     "output_type": "execute_result"
    }
   ],
   "source": [
    "conn.sql(\n",
    "    \"\"\"\n",
    "    SHOW TABLES;\n",
    "    \"\"\"\n",
    ")"
   ]
  },
  {
   "cell_type": "code",
   "execution_count": 4,
   "metadata": {},
   "outputs": [
    {
     "data": {
      "text/plain": [
       "┌─────────────┬───────────┐\n",
       "│ column_name │ data_type │\n",
       "│   varchar   │  varchar  │\n",
       "├─────────────┼───────────┤\n",
       "│ row_id      │ INTEGER   │\n",
       "│ subject_id  │ INTEGER   │\n",
       "│ hadm_id     │ INTEGER   │\n",
       "│ seq_num     │ INTEGER   │\n",
       "│ icd9_code   │ INTEGER   │\n",
       "└─────────────┴───────────┘"
      ]
     },
     "execution_count": 4,
     "metadata": {},
     "output_type": "execute_result"
    }
   ],
   "source": [
    "conn.sql(\n",
    "    \"\"\"\n",
    "    SELECT column_name, data_type FROM information_schema.columns \n",
    "    WHERE table_name = 'PROCS_ICD';\n",
    "    \"\"\"\n",
    ")"
   ]
  },
  {
   "cell_type": "code",
   "execution_count": 11,
   "metadata": {},
   "outputs": [
    {
     "data": {
      "text/plain": [
       "┌───────────────────────────┐\n",
       "│ count(DISTINCT icd9_code) │\n",
       "│           int64           │\n",
       "├───────────────────────────┤\n",
       "│                       164 │\n",
       "└───────────────────────────┘"
      ]
     },
     "execution_count": 11,
     "metadata": {},
     "output_type": "execute_result"
    }
   ],
   "source": [
    "# Problem 1\n",
    "conn.sql(\n",
    "    \"\"\"\n",
    "    SELECT COUNT(DISTINCT icd9_code) FROM PROCS_ICD;\n",
    "    \"\"\"\n",
    ")"
   ]
  },
  {
   "cell_type": "code",
   "execution_count": 6,
   "metadata": {},
   "outputs": [
    {
     "data": {
      "text/plain": [
       "┌──────────────────────────┬────────────────────────────┐\n",
       "│       short_title        │ count(PROCS_ICD.icd9_code) │\n",
       "│         varchar          │           int64            │\n",
       "├──────────────────────────┼────────────────────────────┤\n",
       "│ Venous cath NEC          │                         56 │\n",
       "│ Entral infus nutrit sub  │                         32 │\n",
       "│ Packed cell transfusion  │                         30 │\n",
       "│ Insert endotracheal tube │                         22 │\n",
       "│ Cont inv mec ven <96 hrs │                         21 │\n",
       "└──────────────────────────┴────────────────────────────┘"
      ]
     },
     "execution_count": 6,
     "metadata": {},
     "output_type": "execute_result"
    }
   ],
   "source": [
    "# Problem 2\n",
    "conn.sql(\n",
    "    \"\"\"\n",
    "    SELECT D_ICDPROCS.short_title, COUNT(PROCS_ICD.icd9_code) FROM D_ICDPROCS\n",
    "    JOIN PROCS_ICD ON D_ICDPROCS.icd9_code=PROCS_ICD.icd9_code\n",
    "    GROUP BY short_title\n",
    "    ORDER BY COUNT(PROCS_ICD.icd9_code) DESC\n",
    "    LIMIT 5\n",
    "    \"\"\"\n",
    ")"
   ]
  },
  {
   "cell_type": "code",
   "execution_count": 7,
   "metadata": {},
   "outputs": [
    {
     "data": {
      "text/plain": [
       "┌────────────┬──────────┐\n",
       "│ subject_id │ duration │\n",
       "│   int32    │  int64   │\n",
       "├────────────┼──────────┤\n",
       "│      10006 │        9 │\n",
       "│      10011 │       14 │\n",
       "│      10027 │       12 │\n",
       "│      10032 │       13 │\n",
       "│      10036 │        2 │\n",
       "│      10038 │       12 │\n",
       "│      10044 │        9 │\n",
       "│      10059 │        6 │\n",
       "│      10059 │        7 │\n",
       "│      10061 │       25 │\n",
       "│        ·   │        · │\n",
       "│        ·   │        · │\n",
       "│        ·   │        · │\n",
       "│      41976 │        5 │\n",
       "│      41976 │        7 │\n",
       "│      41976 │        3 │\n",
       "│      41976 │        3 │\n",
       "│      41976 │        3 │\n",
       "│      41976 │        3 │\n",
       "│      41976 │        4 │\n",
       "│      41976 │        3 │\n",
       "│      41976 │        7 │\n",
       "│      41976 │        8 │\n",
       "├────────────┴──────────┤\n",
       "│  221 rows (20 shown)  │\n",
       "└───────────────────────┘"
      ]
     },
     "execution_count": 7,
     "metadata": {},
     "output_type": "execute_result"
    }
   ],
   "source": [
    "# Problem 3\n",
    "conn.sql(\n",
    "    \"\"\"\n",
    "    SELECT ADMISSIONS.subject_id,\n",
    "    cast(ADMISSIONS.dischtime as date) - cast(ADMISSIONS.admittime as date) as duration\n",
    "    FROM ADMISSIONS JOIN PROCS_ICD ON ADMISSIONS.subject_id=PROCS_ICD.subject_id\n",
    "    JOIN D_ICDPROCS ON D_ICDPROCS.icd9_code=PROCS_ICD.icd9_code\n",
    "    WHERE short_title='Venous cath NEC';\n",
    "    \"\"\"\n",
    ")"
   ]
  },
  {
   "cell_type": "code",
   "execution_count": 8,
   "metadata": {},
   "outputs": [
    {
     "data": {
      "text/plain": [
       "┌──────────────────┬───────────────────┐\n",
       "│      avgAge      │      stdAge       │\n",
       "│      double      │      double       │\n",
       "├──────────────────┼───────────────────┤\n",
       "│ 7.85972850678733 │ 9.860539258651679 │\n",
       "└──────────────────┴───────────────────┘"
      ]
     },
     "execution_count": 8,
     "metadata": {},
     "output_type": "execute_result"
    }
   ],
   "source": [
    "conn.sql(\n",
    "    \"\"\"\n",
    "    SELECT MEAN(cast(ADMISSIONS.dischtime as date) - cast(ADMISSIONS.admittime as date)) as avgAge,\n",
    "    STDDEV(cast(ADMISSIONS.dischtime as date) - cast(ADMISSIONS.admittime as date)) as stdAge\n",
    "    FROM ADMISSIONS JOIN PROCS_ICD ON ADMISSIONS.subject_id=PROCS_ICD.subject_id\n",
    "    JOIN D_ICDPROCS ON D_ICDPROCS.icd9_code=PROCS_ICD.icd9_code\n",
    "    WHERE short_title='Venous cath NEC';\n",
    "    \"\"\"\n",
    ")"
   ]
  },
  {
   "cell_type": "code",
   "execution_count": 9,
   "metadata": {},
   "outputs": [
    {
     "data": {
      "text/plain": [
       "┌────────┬──────────┬─────────┬──────────────────────────┐\n",
       "│ avgAge │ maleProp │ femProp │       short_title        │\n",
       "│ double │  double  │ double  │         varchar          │\n",
       "├────────┼──────────┼─────────┼──────────────────────────┤\n",
       "│   73.0 │     0.88 │    0.12 │ Venous cath NEC          │\n",
       "│   66.0 │     0.94 │    0.06 │ Entral infus nutrit sub  │\n",
       "│   66.0 │     0.88 │    0.12 │ Insert endotracheal tube │\n",
       "│   72.0 │     0.86 │    0.14 │ Cont inv mec ven <96 hrs │\n",
       "│   66.0 │      1.0 │     0.0 │ CV cath plcmt w guidance │\n",
       "└────────┴──────────┴─────────┴──────────────────────────┘"
      ]
     },
     "execution_count": 9,
     "metadata": {},
     "output_type": "execute_result"
    }
   ],
   "source": [
    "# Problem 4\n",
    "conn.sql(\n",
    "    \"\"\"\n",
    "    SELECT round(mean(cast(PATIENTS.dod as date) - cast(PATIENTS.dob as date))/365, 0) as avgAge,\n",
    "    round(sum(case when gender = 'M' then 1 else 0 end)/count(*),2) as maleProp,\n",
    "    round(sum(case when gender = 'F' then 1 else 0 end)/count(*),2) as femProp,\n",
    "    D_ICDPROCS.short_title\n",
    "    FROM PATIENTS JOIN ADMISSIONS ON PATIENTS.subject_id=ADMISSIONS.subject_id\n",
    "    JOIN PROCS_ICD ON ADMISSIONS.subject_id=PROCS_ICD.subject_id\n",
    "    JOIN D_ICDPROCS ON D_ICDPROCS.icd9_code=PROCS_ICD.icd9_code\n",
    "    GROUP BY D_ICDPROCS.short_title\n",
    "    ORDER BY COUNT(PROCS_ICD.icd9_code) DESC\n",
    "    LIMIT 5;\n",
    "    \"\"\"\n",
    ")"
   ]
  }
 ],
 "metadata": {
  "kernelspec": {
   "display_name": "Python 3",
   "language": "python",
   "name": "python3"
  },
  "language_info": {
   "codemirror_mode": {
    "name": "ipython",
    "version": 3
   },
   "file_extension": ".py",
   "mimetype": "text/x-python",
   "name": "python",
   "nbconvert_exporter": "python",
   "pygments_lexer": "ipython3",
   "version": "3.9.5"
  }
 },
 "nbformat": 4,
 "nbformat_minor": 2
}
